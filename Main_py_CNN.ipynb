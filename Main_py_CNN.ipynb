{
 "cells": [
  {
   "cell_type": "markdown",
   "metadata": {},
   "source": [
    "# 1.Preparing the Dataset"
   ]
  },
  {
   "cell_type": "code",
   "execution_count": 47,
   "metadata": {
    "collapsed": true
   },
   "outputs": [],
   "source": [
    "import os                                                   # set current working directory \n",
    "os.chdir(\"C:/Users/hj6488/Box Sync/04_Course work (Spring 2019)/800 ML example/Classifier_Res\")  # set the working directory\n"
   ]
  },
  {
   "cell_type": "code",
   "execution_count": 48,
   "metadata": {},
   "outputs": [],
   "source": [
    "# imports for array-handling and plotting\n",
    "import numpy as np\n",
    "import matplotlib\n",
    "#matplotlib.use('agg')\n",
    "import matplotlib.pyplot as plt\n",
    "\n",
    "# # let's keep our keras backend tensorflow quiet\n",
    "# import os\n",
    "# os.environ['TF_CPP_MIN_LOG_LEVEL']='3'\n",
    "# # for testing on CPU\n",
    "# #os.environ['CUDA_VISIBLE_DEVICES'] = ''\n",
    "\n",
    "# keras imports for the dataset and building our neural network\n",
    "from keras.datasets import mnist\n",
    "from keras.models import Sequential, load_model\n",
    "from keras.layers.core import Dense, Dropout, Activation\n",
    "from keras.utils import np_utils\n",
    "from keras.layers import Dense, Dropout, Flatten\n",
    "from keras.layers import Conv2D, MaxPooling2D\n",
    "from keras import backend as K\n",
    "import keras"
   ]
  },
  {
   "cell_type": "code",
   "execution_count": 49,
   "metadata": {
    "collapsed": true
   },
   "outputs": [],
   "source": [
    "A = np.loadtxt('circle')\n",
    "B = np.loadtxt('lobate_0')\n",
    "C = np.loadtxt('lobate_45')\n",
    "D = np.loadtxt('lobate_90')\n",
    "E = np.loadtxt('lobate_135')\n",
    "F = np.loadtxt('Channel_0')\n",
    "G = np.loadtxt('channel_45')\n",
    "H = np.loadtxt('Channel_90')\n",
    "I = np.loadtxt('Channel_135')\n",
    "\n",
    "\n",
    "A_l = np.ones((1,A.shape[1]))*0\n",
    "B_l = np.ones((1,B.shape[1]))*1\n",
    "C_l = np.ones((1,C.shape[1]))*2\n",
    "D_l = np.ones((1,D.shape[1]))*3\n",
    "E_l = np.ones((1,E.shape[1]))*4\n",
    "F_l = np.ones((1,F.shape[1]))*5\n",
    "G_l = np.ones((1,G.shape[1]))*6\n",
    "H_l = np.ones((1,H.shape[1]))*7\n",
    "I_l = np.ones((1,F.shape[1]))*8\n",
    "\n",
    "\n",
    "X_train = np.concatenate((A,B,C,D,E,F,G,H,I),axis=1)\n",
    "y_train = np.concatenate((A_l, B_l, C_l, D_l, E_l, F_l, G_l, H_l, I_l),axis=1)\n",
    "\n",
    "np.random.seed( seed = 1223 )\n",
    "mask_test =   np.random.randint( 0,X_train.shape[1]-1, int( X_train.shape[1]*0.2 ) )    #shuffle data\n",
    "mask_test = np.unique(mask_test)\n",
    "#np.random.shuffle( mask_test )\n",
    "\n",
    "X_test = X_train[ :, mask_test ]\n",
    "y_test = y_train[ :, mask_test ]\n",
    "\n",
    "X_train = np.delete(X_train,mask_test,1)\n",
    "y_train = np.delete(y_train,mask_test,1)\n",
    "\n",
    "size_training = X_train.shape[1]\n",
    "size_test = X_test.shape[1]\n"
   ]
  },
  {
   "cell_type": "code",
   "execution_count": 50,
   "metadata": {},
   "outputs": [
    {
     "data": {
      "text/plain": [
       "(784, 7371)"
      ]
     },
     "execution_count": 50,
     "metadata": {},
     "output_type": "execute_result"
    }
   ],
   "source": [
    "X_train.shape\n"
   ]
  },
  {
   "cell_type": "code",
   "execution_count": 51,
   "metadata": {},
   "outputs": [
    {
     "name": "stdout",
     "output_type": "stream",
     "text": [
      "(784, 1000)\n",
      "(28, 28, 1000)\n"
     ]
    }
   ],
   "source": [
    "print(A.shape)\n",
    "A=A.reshape(28,28,-1)\n",
    "B=B.reshape(28,28,-1)\n",
    "C=C.reshape(28,28,-1)\n",
    "D=D.reshape(28,28,-1)\n",
    "E=E.reshape(28,28,-1)\n",
    "F=F.reshape(28,28,-1)\n",
    "G=G.reshape(28,28,-1)\n",
    "H=H.reshape(28,28,-1)\n",
    "I=I.reshape(28,28,-1)\n",
    "print(A.shape)\n",
    "#plt.figsave('result')\n",
    "# plt.imshow(H[:,:,40])\n",
    "# plt.savefig('result')"
   ]
  },
  {
   "cell_type": "code",
   "execution_count": 52,
   "metadata": {},
   "outputs": [
    {
     "name": "stderr",
     "output_type": "stream",
     "text": [
      "C:\\Users\\hj6488\\AppData\\Local\\conda\\conda\\envs\\tensorflow\\lib\\site-packages\\matplotlib\\pyplot.py:514: RuntimeWarning: More than 20 figures have been opened. Figures created through the pyplot interface (`matplotlib.pyplot.figure`) are retained until explicitly closed and may consume too much memory. (To control this warning, see the rcParam `figure.max_open_warning`).\n",
      "  max_open_warning, RuntimeWarning)\n"
     ]
    }
   ],
   "source": [
    "fig = plt.figure()\n",
    "for i in range(9):\n",
    "  plt.subplot(3,3,i+1)\n",
    "  plt.tight_layout()\n",
    "  plt.imshow(A[:,:,i], interpolation='none')\n",
    "#   plt.title(\"Digit: {}\".format(y_train[i]))\n",
    "  plt.xticks([])\n",
    "  plt.yticks([])\n",
    "fig.savefig('1_Training 3x3_Circle')\n",
    "\n",
    "fig = plt.figure()\n",
    "for i in range(9):\n",
    "  plt.subplot(3,3,i+1)\n",
    "  plt.tight_layout()\n",
    "  plt.imshow(B[:,:,i], interpolation='none')\n",
    "#   plt.title(\"Digit: {}\".format(y_train[i]))\n",
    "  plt.xticks([])\n",
    "  plt.yticks([])\n",
    "fig.savefig('1_Training 3x3_Lobate_0')\n",
    "\n",
    "fig = plt.figure()\n",
    "for i in range(9):\n",
    "  plt.subplot(3,3,i+1)\n",
    "  plt.tight_layout()\n",
    "  plt.imshow(C[:,:,i], interpolation='none')\n",
    "#   plt.title(\"Digit: {}\".format(y_train[i]))\n",
    "  plt.xticks([])\n",
    "  plt.yticks([])\n",
    "fig.savefig('1_Training 3x3_Lobate_45')\n",
    "\n",
    "fig = plt.figure()\n",
    "for i in range(9):\n",
    "  plt.subplot(3,3,i+1)\n",
    "  plt.tight_layout()\n",
    "  plt.imshow(D[:,:,i], interpolation='none')\n",
    "#   plt.title(\"Digit: {}\".format(y_train[i]))\n",
    "  plt.xticks([])\n",
    "  plt.yticks([])\n",
    "fig.savefig('1_Training 3x3_Lobate_90')\n",
    "\n",
    "fig = plt.figure()\n",
    "for i in range(9):\n",
    "  plt.subplot(3,3,i+1)\n",
    "  plt.tight_layout()\n",
    "  plt.imshow(E[:,:,i], interpolation='none')\n",
    "#   plt.title(\"Digit: {}\".format(y_train[i]))\n",
    "  plt.xticks([])\n",
    "  plt.yticks([])\n",
    "fig.savefig('1_Training 3x3_Lobate_135')\n",
    "\n",
    "fig = plt.figure()\n",
    "for i in range(9):\n",
    "  plt.subplot(3,3,i+1)\n",
    "  plt.tight_layout()\n",
    "  plt.imshow(F[:,:,i], interpolation='none')\n",
    "#   plt.title(\"Digit: {}\".format(y_train[i]))\n",
    "  plt.xticks([])\n",
    "  plt.yticks([])\n",
    "fig.savefig('1_Training 3x3_channel_0')\n",
    "\n",
    "fig = plt.figure()\n",
    "for i in range(9):\n",
    "  plt.subplot(3,3,i+1)\n",
    "  plt.tight_layout()\n",
    "  plt.imshow(G[:,:,i], interpolation='none')\n",
    "#   plt.title(\"Digit: {}\".format(y_train[i]))\n",
    "  plt.xticks([])\n",
    "  plt.yticks([])\n",
    "fig.savefig('1_Training 3x3_channel_45')\n",
    "\n",
    "fig = plt.figure()\n",
    "for i in range(9):\n",
    "  plt.subplot(3,3,i+1)\n",
    "  plt.tight_layout()\n",
    "  plt.imshow(H[:,:,i], interpolation='none')\n",
    "#   plt.title(\"Digit: {}\".format(y_train[i]))\n",
    "  plt.xticks([])\n",
    "  plt.yticks([])\n",
    "fig.savefig('1_Training 3x3_channel_90')\n",
    "\n",
    "fig = plt.figure()\n",
    "for i in range(9):\n",
    "  plt.subplot(3,3,i+1)\n",
    "  plt.tight_layout()\n",
    "  plt.imshow(I[:,:,i], interpolation='none')\n",
    "#   plt.title(\"Digit: {}\".format(y_train[i]))\n",
    "  plt.xticks([])\n",
    "  plt.yticks([])\n",
    "fig.savefig('1_Training 3x3_channel_135')"
   ]
  },
  {
   "cell_type": "code",
   "execution_count": 53,
   "metadata": {},
   "outputs": [
    {
     "data": {
      "text/plain": [
       "str"
      ]
     },
     "execution_count": 53,
     "metadata": {},
     "output_type": "execute_result"
    }
   ],
   "source": [
    "Name_list=['Circle','Lobate_0','Lobate_45','Lobate_90','Lobate_135','channel_0','channel_45','channel_90','channel_135']\n",
    "type(Name_list[0])"
   ]
  },
  {
   "cell_type": "code",
   "execution_count": 54,
   "metadata": {},
   "outputs": [
    {
     "data": {
      "text/plain": [
       "(784, 7371)"
      ]
     },
     "execution_count": 54,
     "metadata": {},
     "output_type": "execute_result"
    }
   ],
   "source": [
    "X_train.shape"
   ]
  },
  {
   "cell_type": "code",
   "execution_count": 55,
   "metadata": {
    "collapsed": true
   },
   "outputs": [],
   "source": [
    "# Reshape data\n",
    "X_train = X_train.reshape(28,28,size_training)\n",
    "y_train = y_train.reshape((size_training,))\n",
    "X_test = X_test.reshape(28,28,size_test)\n",
    "y_test = y_test.reshape((size_test,))\n"
   ]
  },
  {
   "cell_type": "code",
   "execution_count": 56,
   "metadata": {},
   "outputs": [
    {
     "name": "stderr",
     "output_type": "stream",
     "text": [
      "C:\\Users\\hj6488\\AppData\\Local\\conda\\conda\\envs\\tensorflow\\lib\\site-packages\\matplotlib\\pyplot.py:514: RuntimeWarning: More than 20 figures have been opened. Figures created through the pyplot interface (`matplotlib.pyplot.figure`) are retained until explicitly closed and may consume too much memory. (To control this warning, see the rcParam `figure.max_open_warning`).\n",
      "  max_open_warning, RuntimeWarning)\n"
     ]
    }
   ],
   "source": [
    "fig = plt.figure()\n",
    "plt.subplot(2,1,1)\n",
    "plt.imshow(X_train[:,:,0], interpolation='none')\n",
    "plt.title(\"TI type: %s\" %Name_list[int(y_train.T[0])])\n",
    "plt.xticks([])\n",
    "plt.yticks([])\n",
    "plt.subplot(2,1,2)\n",
    "plt.hist(X_train[:,:,0].reshape(784))\n",
    "plt.title(\"Pixel Value Distribution\")\n",
    "fig.savefig('2_Training 1x1')"
   ]
  },
  {
   "cell_type": "code",
   "execution_count": 57,
   "metadata": {},
   "outputs": [
    {
     "name": "stdout",
     "output_type": "stream",
     "text": [
      "X_train shape (28, 28, 7371)\n",
      "y_train shape (7371,)\n",
      "X_test shape (28, 28, 1629)\n",
      "y_test shape (1629,)\n",
      "Train matrix shape (7371, 28, 28, 1)\n",
      "Test matrix shape (1629, 28, 28, 1)\n"
     ]
    }
   ],
   "source": [
    "# let's print the shape before we reshape and normalize\n",
    "print(\"X_train shape\", X_train.shape)\n",
    "print(\"y_train shape\", y_train.shape)\n",
    "print(\"X_test shape\", X_test.shape)\n",
    "print(\"y_test shape\", y_test.shape)\n",
    "\n",
    "\n",
    "\n",
    "\n",
    "# building the input vector from the 28x28 pixels\n",
    "X_train = X_train.reshape(28,28,1,size_training)\n",
    "X_test = X_test.reshape(28,28,1,size_test)\n",
    "X_train = X_train.astype('float32')\n",
    "X_test = X_test.astype('float32')\n",
    "input_shape = (28,28,1)\n",
    "\n",
    "X_train = np.moveaxis(X_train, 3,0)\n",
    "X_test= np.moveaxis(X_test, 3,0)\n",
    "\n",
    "# print the final input shape ready for training\n",
    "print(\"Train matrix shape\", X_train.shape)\n",
    "print(\"Test matrix shape\", X_test.shape)\n",
    "\n"
   ]
  },
  {
   "cell_type": "code",
   "execution_count": 58,
   "metadata": {},
   "outputs": [
    {
     "name": "stderr",
     "output_type": "stream",
     "text": [
      "C:\\Users\\hj6488\\AppData\\Local\\conda\\conda\\envs\\tensorflow\\lib\\site-packages\\matplotlib\\pyplot.py:514: RuntimeWarning: More than 20 figures have been opened. Figures created through the pyplot interface (`matplotlib.pyplot.figure`) are retained until explicitly closed and may consume too much memory. (To control this warning, see the rcParam `figure.max_open_warning`).\n",
      "  max_open_warning, RuntimeWarning)\n"
     ]
    }
   ],
   "source": [
    "fig = plt.figure()\n",
    "plt.subplot(2,1,1)\n",
    "plt.imshow(X_train[0,:,:,0], interpolation='none')\n",
    "plt.title(\"TI type: %s\" %Name_list[int(y_train.T[0])])\n",
    "plt.xticks([])\n",
    "plt.yticks([])\n",
    "plt.subplot(2,1,2)\n",
    "plt.hist(X_train[0,:,:,0].reshape(784))\n",
    "plt.title(\"Pixel Value Distribution\")\n",
    "fig.savefig('2_Training 1x1 (2)')"
   ]
  },
  {
   "cell_type": "code",
   "execution_count": 59,
   "metadata": {},
   "outputs": [
    {
     "name": "stdout",
     "output_type": "stream",
     "text": [
      "(array([0., 1., 2., 3., 4., 5., 6., 7., 8.]), array([836, 816, 833, 823, 809, 806, 799, 823, 826], dtype=int64))\n"
     ]
    }
   ],
   "source": [
    "print(np.unique(y_train, return_counts=True))"
   ]
  },
  {
   "cell_type": "code",
   "execution_count": 60,
   "metadata": {},
   "outputs": [
    {
     "name": "stdout",
     "output_type": "stream",
     "text": [
      "Shape before one-hot encoding:  (7371,)\n",
      "Shape after one-hot encoding:  (7371, 9)\n"
     ]
    }
   ],
   "source": [
    "# For visualization later\n",
    "y_test_=y_test\n",
    "y_train_=y_train\n",
    "\n",
    "# one-hot encoding using keras' numpy-related utilities\n",
    "n_classes = 9\n",
    "print(\"Shape before one-hot encoding: \", y_train.shape)\n",
    "y_train = np_utils.to_categorical(y_train, n_classes)\n",
    "y_test = np_utils.to_categorical(y_test, n_classes)\n",
    "print(\"Shape after one-hot encoding: \", y_train.shape)"
   ]
  },
  {
   "cell_type": "markdown",
   "metadata": {},
   "source": [
    "# 2. Build Neural Network"
   ]
  },
  {
   "cell_type": "code",
   "execution_count": 61,
   "metadata": {},
   "outputs": [
    {
     "data": {
      "text/plain": [
       "(28, 28, 1)"
      ]
     },
     "execution_count": 61,
     "metadata": {},
     "output_type": "execute_result"
    }
   ],
   "source": [
    "input_shape\n"
   ]
  },
  {
   "cell_type": "code",
   "execution_count": 62,
   "metadata": {
    "collapsed": true
   },
   "outputs": [],
   "source": [
    "# building a linear stack of layers with the sequential model\n",
    "model = Sequential()\n",
    "model.add(Conv2D(32, kernel_size=(3, 3),activation='relu',input_shape=input_shape))\n",
    "\n",
    "model.add(Conv2D(64, kernel_size=(3, 3), activation='relu'))\n",
    "model.add(MaxPooling2D(pool_size=(2, 2)))\n",
    "model.add(Dropout(0.25))\n",
    "model.add(Flatten())\n",
    "\n",
    "model.add(Dense(128, activation='relu'))\n",
    "model.add(Dropout(0.5))\n",
    "\n",
    "model.add(Dense(n_classes, activation='softmax'))\n"
   ]
  },
  {
   "cell_type": "markdown",
   "metadata": {},
   "source": [
    "# 2. Compiling and Training the Model    "
   ]
  },
  {
   "cell_type": "code",
   "execution_count": 63,
   "metadata": {
    "collapsed": true
   },
   "outputs": [],
   "source": [
    "# compiling the sequential model\n",
    "model.compile(loss='categorical_crossentropy', metrics=['accuracy'], optimizer='adam')\n",
    "\n",
    "# model.compile(loss=keras.losses.categorical_crossentropy,\n",
    "#               optimizer=keras.optimizers.Adadelta(),\n",
    "#               metrics=['accuracy'])\n"
   ]
  },
  {
   "cell_type": "code",
   "execution_count": 64,
   "metadata": {},
   "outputs": [
    {
     "data": {
      "text/plain": [
       "(7371, 28, 28, 1)"
      ]
     },
     "execution_count": 64,
     "metadata": {},
     "output_type": "execute_result"
    }
   ],
   "source": [
    "X_train.shape"
   ]
  },
  {
   "cell_type": "code",
   "execution_count": 65,
   "metadata": {},
   "outputs": [],
   "source": [
    "fig = plt.figure(10)\n",
    "plt.imshow(X_train[0,:,:,0].reshape(28,28))\n",
    "plt.savefig('reult')"
   ]
  },
  {
   "cell_type": "code",
   "execution_count": null,
   "metadata": {},
   "outputs": [
    {
     "name": "stdout",
     "output_type": "stream",
     "text": [
      "Train on 7371 samples, validate on 1629 samples\n",
      "Epoch 1/100\n",
      " - 2s - loss: 1.2144 - acc: 0.5364 - val_loss: 0.4714 - val_acc: 0.8643\n",
      "Epoch 2/100\n",
      " - 2s - loss: 0.5363 - acc: 0.7981 - val_loss: 0.2849 - val_acc: 0.9018\n",
      "Epoch 3/100\n",
      " - 2s - loss: 0.3280 - acc: 0.8851 - val_loss: 0.1803 - val_acc: 0.9423\n",
      "Epoch 4/100\n",
      " - 2s - loss: 0.2313 - acc: 0.9204 - val_loss: 0.1748 - val_acc: 0.9337\n",
      "Epoch 5/100\n",
      " - 2s - loss: 0.1677 - acc: 0.9433 - val_loss: 0.1156 - val_acc: 0.9613\n",
      "Epoch 6/100\n",
      " - 2s - loss: 0.1272 - acc: 0.9590 - val_loss: 0.0722 - val_acc: 0.9748\n",
      "Epoch 7/100\n",
      " - 2s - loss: 0.0853 - acc: 0.9721 - val_loss: 0.0750 - val_acc: 0.9711\n",
      "Epoch 8/100\n",
      " - 2s - loss: 0.0677 - acc: 0.9799 - val_loss: 0.0709 - val_acc: 0.9754\n",
      "Epoch 9/100\n",
      " - 2s - loss: 0.0634 - acc: 0.9794 - val_loss: 0.0433 - val_acc: 0.9865\n",
      "Epoch 10/100\n",
      " - 2s - loss: 0.0638 - acc: 0.9788 - val_loss: 0.0395 - val_acc: 0.9877\n",
      "Epoch 11/100\n",
      " - 2s - loss: 0.0562 - acc: 0.9813 - val_loss: 0.0593 - val_acc: 0.9773\n",
      "Epoch 12/100\n",
      " - 2s - loss: 0.0369 - acc: 0.9874 - val_loss: 0.0413 - val_acc: 0.9828\n",
      "Epoch 13/100\n",
      " - 2s - loss: 0.0440 - acc: 0.9856 - val_loss: 0.0493 - val_acc: 0.9834\n",
      "Epoch 14/100\n",
      " - 2s - loss: 0.0344 - acc: 0.9885 - val_loss: 0.0380 - val_acc: 0.9896\n",
      "Epoch 15/100\n",
      " - 2s - loss: 0.0273 - acc: 0.9917 - val_loss: 0.0539 - val_acc: 0.9834\n",
      "Epoch 16/100\n",
      " - 2s - loss: 0.0281 - acc: 0.9898 - val_loss: 0.0306 - val_acc: 0.9920\n",
      "Epoch 17/100\n",
      " - 2s - loss: 0.0274 - acc: 0.9909 - val_loss: 0.0326 - val_acc: 0.9883\n",
      "Epoch 18/100\n",
      " - 2s - loss: 0.0241 - acc: 0.9920 - val_loss: 0.0339 - val_acc: 0.9890\n",
      "Epoch 19/100\n",
      " - 2s - loss: 0.0245 - acc: 0.9928 - val_loss: 0.0558 - val_acc: 0.9810\n",
      "Epoch 20/100\n",
      " - 2s - loss: 0.0259 - acc: 0.9901 - val_loss: 0.0263 - val_acc: 0.9920\n",
      "Epoch 21/100\n",
      " - 2s - loss: 0.0257 - acc: 0.9916 - val_loss: 0.0418 - val_acc: 0.9859\n",
      "Epoch 22/100\n",
      " - 2s - loss: 0.0193 - acc: 0.9940 - val_loss: 0.0289 - val_acc: 0.9920\n",
      "Epoch 23/100\n",
      " - 2s - loss: 0.0236 - acc: 0.9931 - val_loss: 0.0373 - val_acc: 0.9890\n",
      "Epoch 24/100\n",
      " - 2s - loss: 0.0142 - acc: 0.9948 - val_loss: 0.0290 - val_acc: 0.9926\n",
      "Epoch 25/100\n",
      " - 2s - loss: 0.0241 - acc: 0.9921 - val_loss: 0.0498 - val_acc: 0.9853\n",
      "Epoch 26/100\n",
      " - 2s - loss: 0.0116 - acc: 0.9963 - val_loss: 0.0276 - val_acc: 0.9902\n",
      "Epoch 27/100\n",
      " - 2s - loss: 0.0242 - acc: 0.9916 - val_loss: 0.0276 - val_acc: 0.9914\n",
      "Epoch 28/100\n",
      " - 2s - loss: 0.0218 - acc: 0.9940 - val_loss: 0.0267 - val_acc: 0.9914\n",
      "Epoch 29/100\n",
      " - 2s - loss: 0.0110 - acc: 0.9966 - val_loss: 0.0247 - val_acc: 0.9908\n",
      "Epoch 30/100\n",
      " - 2s - loss: 0.0124 - acc: 0.9954 - val_loss: 0.0264 - val_acc: 0.9902\n",
      "Epoch 31/100\n",
      " - 2s - loss: 0.0126 - acc: 0.9951 - val_loss: 0.0237 - val_acc: 0.9920\n",
      "Epoch 32/100\n",
      " - 2s - loss: 0.0130 - acc: 0.9948 - val_loss: 0.0294 - val_acc: 0.9908\n",
      "Epoch 33/100\n",
      " - 2s - loss: 0.0135 - acc: 0.9948 - val_loss: 0.0220 - val_acc: 0.9920\n",
      "Epoch 34/100\n",
      " - 2s - loss: 0.0180 - acc: 0.9948 - val_loss: 0.0368 - val_acc: 0.9883\n",
      "Epoch 35/100\n",
      " - 2s - loss: 0.0164 - acc: 0.9944 - val_loss: 0.0264 - val_acc: 0.9926\n",
      "Epoch 36/100\n",
      " - 2s - loss: 0.0099 - acc: 0.9962 - val_loss: 0.0238 - val_acc: 0.9920\n",
      "Epoch 37/100\n",
      " - 2s - loss: 0.0063 - acc: 0.9977 - val_loss: 0.0175 - val_acc: 0.9939\n",
      "Epoch 38/100\n",
      " - 2s - loss: 0.0100 - acc: 0.9965 - val_loss: 0.0165 - val_acc: 0.9951\n",
      "Epoch 39/100\n",
      " - 2s - loss: 0.0135 - acc: 0.9961 - val_loss: 0.0136 - val_acc: 0.9951\n",
      "Epoch 40/100\n",
      " - 2s - loss: 0.0158 - acc: 0.9944 - val_loss: 0.0210 - val_acc: 0.9932\n",
      "Epoch 41/100\n",
      " - 2s - loss: 0.0077 - acc: 0.9974 - val_loss: 0.0180 - val_acc: 0.9945\n",
      "Epoch 42/100\n",
      " - 2s - loss: 0.0103 - acc: 0.9970 - val_loss: 0.0215 - val_acc: 0.9920\n",
      "Epoch 43/100\n",
      " - 2s - loss: 0.0138 - acc: 0.9953 - val_loss: 0.0308 - val_acc: 0.9902\n",
      "Epoch 44/100\n",
      " - 2s - loss: 0.0122 - acc: 0.9957 - val_loss: 0.0202 - val_acc: 0.9926\n",
      "Epoch 45/100\n",
      " - 2s - loss: 0.0050 - acc: 0.9984 - val_loss: 0.0125 - val_acc: 0.9975\n",
      "Epoch 46/100\n",
      " - 2s - loss: 0.0076 - acc: 0.9974 - val_loss: 0.0146 - val_acc: 0.9945\n",
      "Epoch 47/100\n",
      " - 2s - loss: 0.0049 - acc: 0.9984 - val_loss: 0.0241 - val_acc: 0.9926\n",
      "Epoch 48/100\n",
      " - 2s - loss: 0.0158 - acc: 0.9946 - val_loss: 0.0523 - val_acc: 0.9902\n",
      "Epoch 49/100\n",
      " - 2s - loss: 0.0087 - acc: 0.9972 - val_loss: 0.0189 - val_acc: 0.9963\n",
      "Epoch 50/100\n",
      " - 2s - loss: 0.0083 - acc: 0.9969 - val_loss: 0.0156 - val_acc: 0.9951\n",
      "Epoch 51/100\n",
      " - 2s - loss: 0.0087 - acc: 0.9969 - val_loss: 0.0263 - val_acc: 0.9945\n",
      "Epoch 52/100\n",
      " - 2s - loss: 0.0050 - acc: 0.9982 - val_loss: 0.0101 - val_acc: 0.9969\n",
      "Epoch 53/100\n",
      " - 2s - loss: 0.0066 - acc: 0.9978 - val_loss: 0.0228 - val_acc: 0.9914\n",
      "Epoch 54/100\n",
      " - 2s - loss: 0.0088 - acc: 0.9966 - val_loss: 0.0160 - val_acc: 0.9963\n",
      "Epoch 55/100\n",
      " - 2s - loss: 0.0059 - acc: 0.9978 - val_loss: 0.0123 - val_acc: 0.9975\n",
      "Epoch 56/100\n",
      " - 2s - loss: 0.0124 - acc: 0.9954 - val_loss: 0.0107 - val_acc: 0.9975\n",
      "Epoch 57/100\n",
      " - 2s - loss: 0.0128 - acc: 0.9961 - val_loss: 0.0107 - val_acc: 0.9975\n",
      "Epoch 58/100\n",
      " - 2s - loss: 0.0039 - acc: 0.9982 - val_loss: 0.0183 - val_acc: 0.9957\n",
      "Epoch 59/100\n"
     ]
    }
   ],
   "source": [
    "# training the model and saving metrics in history\n",
    "history = model.fit(X_train, y_train,\n",
    "          batch_size=30, epochs=100,\n",
    "          verbose=2,\n",
    "          validation_data=(X_test, y_test))\n"
   ]
  },
  {
   "cell_type": "code",
   "execution_count": null,
   "metadata": {
    "collapsed": true
   },
   "outputs": [],
   "source": [
    "# saving the model\n",
    "save_dir = \"C:/Users/hj6488/Box Sync/04_Course work (Spring 2019)/800 ML example/Classifier_Res/Results\"\n",
    "model_name = 'keras_MPS.h5'\n",
    "model_path = os.path.join(save_dir, model_name)\n",
    "model.save(model_path)\n",
    "print('Saved trained model at %s ' % model_path)\n"
   ]
  },
  {
   "cell_type": "code",
   "execution_count": null,
   "metadata": {},
   "outputs": [],
   "source": [
    "\n",
    "# plotting the metrics\n",
    "fig = plt.figure()\n",
    "plt.subplot(2,1,1)\n",
    "plt.plot(history.history['acc'])\n",
    "plt.plot(history.history['val_acc'])\n",
    "plt.title('model accuracy')\n",
    "plt.ylabel('accuracy')\n",
    "plt.xlabel('epoch')\n",
    "plt.legend(['train', 'test'], loc='lower right')\n",
    "\n",
    "plt.subplot(2,1,2)\n",
    "plt.plot(history.history['loss'])\n",
    "plt.plot(history.history['val_loss'])\n",
    "plt.title('model loss')\n",
    "plt.ylabel('loss')\n",
    "plt.xlabel('epoch')\n",
    "plt.legend(['train', 'test'], loc='upper right')\n",
    "\n",
    "plt.tight_layout()\n",
    "\n",
    "fig.savefig('3_Loss_and_acc_history')"
   ]
  },
  {
   "cell_type": "markdown",
   "metadata": {},
   "source": [
    "# 4. Evaluate the Model's Performance"
   ]
  },
  {
   "cell_type": "code",
   "execution_count": null,
   "metadata": {},
   "outputs": [],
   "source": [
    "MPS_model = load_model(\"C:/Users/hj6488/Box Sync/04_Course work (Spring 2019)/800 ML example/Classifier_Res/results/keras_MPS.h5\")\n",
    "loss_and_metrics = MPS_model.evaluate(X_test, y_test, verbose=2)\n",
    "\n",
    "print(\"Test Loss\", loss_and_metrics[0])\n",
    "print(\"Test Accuracy\", loss_and_metrics[1])"
   ]
  },
  {
   "cell_type": "code",
   "execution_count": null,
   "metadata": {},
   "outputs": [],
   "source": [
    "# load the model and create predictions on the test set\n",
    "MPS_model = load_model(\"C:/Users/hj6488/Box Sync/04_Course work (Spring 2019)/800 ML example/Classifier_Res/results/keras_MPS.h5\")\n",
    "predicted_classes = MPS_model.predict_classes(X_test)\n",
    "\n",
    "# see which we predicted correctly and which not\n",
    "correct_indices = np.nonzero(predicted_classes == y_test_)[0]\n",
    "incorrect_indices = np.nonzero(predicted_classes != y_test_)[0]\n",
    "print()\n",
    "print(len(correct_indices),\" classified correctly\")\n",
    "print(len(incorrect_indices),\" classified incorrectly\")\n",
    "\n",
    "# adapt figure size to accomodate 18 subplots\n",
    "plt.rcParams['figure.figsize'] = (10,20)\n",
    "\n",
    "figure_evaluation = plt.figure()\n",
    "\n",
    "# plot 9 correct predictions\n",
    "for i, correct in enumerate(correct_indices[0:1380:150]):\n",
    "    plt.subplot(6,3,i+1)\n",
    "    plt.imshow(X_test[correct].reshape(28,28), interpolation='none')\n",
    "    plt.title(\n",
    "      \"Predicted: %s, Truth: %s\" %(Name_list[int(predicted_classes[correct])],\n",
    "                                        Name_list[int(y_test_[correct])]),fontsize=10)\n",
    "    plt.xticks([])\n",
    "    plt.yticks([])\n",
    "\n",
    "# plot 9 incorrect predictions\n",
    "for i, incorrect in enumerate(incorrect_indices[0:350:40]):\n",
    "    plt.subplot(6,3,i+10)\n",
    "    plt.imshow(X_test[incorrect].reshape(28,28), interpolation='none')\n",
    "    plt.title(\n",
    "      \"Predicted %s, Truth: %s\" %(Name_list[int(predicted_classes[incorrect])],\n",
    "                                        Name_list[int(y_test_[incorrect])]),fontsize=10)\n",
    "    plt.xticks([])\n",
    "    plt.yticks([])\n",
    "\n",
    "figure_evaluation.savefig('4. Incorrect result.png',format = 'png')"
   ]
  },
  {
   "cell_type": "code",
   "execution_count": null,
   "metadata": {},
   "outputs": [],
   "source": [
    "y_test.shape"
   ]
  },
  {
   "cell_type": "code",
   "execution_count": null,
   "metadata": {
    "collapsed": true
   },
   "outputs": [],
   "source": []
  }
 ],
 "metadata": {
  "kernelspec": {
   "display_name": "Python 3",
   "language": "python",
   "name": "python3"
  },
  "language_info": {
   "codemirror_mode": {
    "name": "ipython",
    "version": 3
   },
   "file_extension": ".py",
   "mimetype": "text/x-python",
   "name": "python",
   "nbconvert_exporter": "python",
   "pygments_lexer": "ipython3",
   "version": "3.5.4"
  }
 },
 "nbformat": 4,
 "nbformat_minor": 2
}
